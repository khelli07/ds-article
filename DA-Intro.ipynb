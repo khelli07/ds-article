{
 "cells": [
  {
   "cell_type": "markdown",
   "metadata": {},
   "source": [
    "# Pengenalan Data Analysis"
   ]
  },
  {
   "cell_type": "markdown",
   "metadata": {},
   "source": [
    "Halo! selamat datang pada laman ini. Perkenalkan, saya Maria Khelli dan saya merupakan mahasiswi ITB Teknik Informatika 2020. Pada artikel ini, selain berkenalan dengan saya, kalian juga akan berkenalan dengan analisis data. Saya akan bawa kalian \"jalan-jalan\" mulai dari mengapa kita harus belajar data, apa itu analisis data, dan hands-on analisis data dengan Python. Yuk, langsung saja!"
   ]
  },
  {
   "cell_type": "markdown",
   "metadata": {},
   "source": [
    "## **Kenapa, ya, harus belajar data?**"
   ]
  },
  {
   "cell_type": "markdown",
   "metadata": {},
   "source": [
    "Perhatikan sekeliling kita. Kita sebetulnya sudah amat dekat dengan data. Apa-apa data, apa-apa data. Ingat laporan praktikum (laprak) kalian? Nah, itu adalah data. Kalau kalian di kamar mandi, pasti kalian pernah iseng membaca komposisi dari shampoo atau sabun kalian bukan? Itu juga adalah data.\n",
    "\n",
    "Secara definisi, menurut KBBI, data merupakan keterangan atau bahan nyata yang dapat dijadikan dasar analisis atau kesimpulan. Dalam cakupannya di ilmu komputer, data merupakan **informasi** yang dapat diproses oleh komputer. Sejauh ini, **komputer hanya bisa memproses angka**. Jadi, semua informasi yang ingin diproses komputer **harus diubah atau dikonversi ke dalam representasi angka** terlebih dahulu. Meski demikian, hebatnya teknologi sekarang adalah data seperti suara atau gambar yang \"tidak ada matematikanya\" juga bisa direpresentasikan sebagai angka, lho!\n",
    "\n",
    "Jadi-jadi, kenapa harus belajar data? Ingat lagi bahwa **data ada di sekeliling kita**. Setiap keputusan yang kita ambil itu juga berdasarkan data yang kita miliki. Nah, data tersebut bentuknya adalah pengalaman. Apabila pengalaman tersebut tidak dimaknai dan dimanfaatkan dengan baik, tidak ada gunanya juga, bukan? Sia-sialah sesuatu yang berharga itu. Sama seperti data, **jika kita tidak bisa memaknai dan memanfaatkannya dengan baik, data tersebut adalah sia-sia.** Padahal, dengan data, kita bisa menjadi lebih peka terhadap keputusan mana yang paling baik. Hal ini mampu memberi kita **peluang untuk menemukan potensi baru.** \n",
    "\n",
    "Sebenarnya, ada banyak cabang dalam ilmu data, beberapa di antaranya adalah *data science* dan *dan data analytics*. Mereka saling berhubungan satu dan yang lain. *Data analytics* pun juga memiliki beberapa klasifikasi, yaitu sebagai berikut.\n",
    "* **Deskriptif**: menjelaskan apa yang terjadi\n",
    "* **Diagnostik**: mengapa itu terjadi\n",
    "* **Prediktif**: apa yang akan terjadi\n",
    "* **Preskriptif**: apa yang harus dilakukan "
   ]
  },
  {
   "cell_type": "markdown",
   "metadata": {},
   "source": [
    "![Data analysis classification](assets/principa-4-types-of-da.png)\n",
    "<br> Sumber: [KD Nuggets](https://www.kdnuggets.com/2017/07/4-types-data-analytics.html)"
   ]
  },
  {
   "cell_type": "markdown",
   "metadata": {},
   "source": [
    "Dalam artikel ini, kita hanya akan membahas analisis data, khususnya analisis deskriptif. Kenapa? Karena ilmu ini merupakan ilmu paling dasar dan ilmu paling umum. Jadi, prinsip-prinsip analisis data yang kalian pelajari di sini dapat kalian terapkan dalam bidang ilmu yang kalian tekuni sekarang. *Anyway, meskipun ada dari kalian yang tidak menjurus ke informatika, belajar data secara mendalam nggak ada salahnya, kok!*"
   ]
  },
  {
   "cell_type": "markdown",
   "metadata": {},
   "source": [
    "## **Lalu, apa itu analisis data?**"
   ]
  },
  {
   "cell_type": "markdown",
   "metadata": {},
   "source": [
    "Menurut Wikipedia, analisis data adalah proses mengkaji (menginspeksi), mentransformasikan, dan memodelkan data **dengan tujuan untuk menemukan informasi yang berguna, menarik kesimpulan, dan mendukung pengambilan keputusan.** Sementara itu, Milton berpendapat bahwa analisis data adalah cara untuk **memecah masalah yang kompleks menjadi beberapa bagian** sehingga dapat **mengetahui akar masalahnya.**\n",
    "\n",
    "Dalam analisis data, tentu ada tahap-tahap yang harus dilakukan. Tahap tahap tersebut diilustrasikan pada gambar di bawah ini."
   ]
  },
  {
   "cell_type": "markdown",
   "metadata": {},
   "source": [
    "![Data analysis thinking framework](assets/da-workflow.png)\n",
    "<br> Sumber: Milton, Michael. 2009. *Head First Data Analysis*. USA: O'Reilly"
   ]
  },
  {
   "cell_type": "markdown",
   "metadata": {},
   "source": [
    "Agar memudahkan, mari simak contoh sederhana berikut. Misalkan kamu adalah seorang pelajar perantau yang sedang kebingungan ingin makan apa pada sore hari. Uangmu untuk jatah hari ini hanya sisa Rp50.000, tentu artinya kamu tidak boleh belanja lebih dari ini. Kamu bisa memilih untuk berjalan kaki dan membeli makan sendiri jika warung makannya dekat dengan tempat tinggalmu atau menggunakan layanan ojek *online* (ojol) untuk mengantarkan makanannya. Kamu sedang ada tugas sehingga tidak punya banyak waktu untuk memasak. \n",
    "\n",
    "**1. Define**: apa yang menjadi masalahmu? <br>\n",
    "\n",
    "Sebaiknya definisi masalah berbentuk pertanyaan (ingat rumusan masalah dalam karya ilmiah). Dalam hal ini, contoh permasalahannya adalah \"Bagaimana memilih makanan yang tepat untuk dibeli pada sore hari ini?\"\n",
    "\n",
    "**2. Disassemble**: uraikan permasalahan menjadi masalah yang lebih kecil. <br>\n",
    "\n",
    "Terkadang, rumusan masalah terlalu luas sehingga pertanyaannya tidak dapat dijawab secara langsung. Maka, untuk masalah-masalah yang belum jelas coba didiskusikan terlebih dahulu dengan orang yang terlibat, misalnya jika kamu memiliki *client*. Untuk hal ini, karena ini masalahmu sendiri, kamu bisa mempertimbangkan beberapa hal. Contohnya sebagai berikut.\n",
    "    * \"Apa yang sedang ingin kamu makan? Apakah sesuatu yang asin atau manis?\"\n",
    "    * \"Apakah budget kamu cukup? Lebih hemat jalan kaki atau ojol? \"\n",
    "    * \"Seberapa banyak kamu ingin makan? Apakah lebih banyak lebih baik?\"\n",
    "    * \"Apakah makanan yang ingin dibeli higienis?\"\n",
    "    * \"Adakah warung makan lain yang menjual makanan yang sejenis tetapi lebih murah dan tetap higienis?\"\n",
    "    * dan lain-lain.\n",
    "Jumlah pertanyaannya bebas. Tidak harus banyak dan tidak harus sedikit. Selama pertanyaan-pertanyaan tersebut cukup untuk membantumu menyelesaikan masalahmu, maka pertanyaan tersebut sudah tepat jumlahnya.\n",
    "\n",
    "**3. Evaluate**: amati permasalahanmu sebelumnya, kemudian bandingkan dengan data <br>\n",
    "\n",
    "Pada contoh ini, data-data yang kamu miliki bisa berasal dari internet (ulasan orang lain, rating, dan sejenisnya), pengalaman kamu, maupun cerita dari temanmu. **INGAT !!** Kamu tidak boleh memasukkan pengalamanmu sebagai data jika masalahnya merupakan masalah perusahaan. **Input data harus sesuai dengan permasalahanmu**. Pada permasalahan yang nyata, misalnya omset penjualan baju, data yang dimiliki biasanya berbentuk tabular... atau kamu bisa ingat laporan praktikummu lagi! Di sana, kamu tidak dapat memasukkan pengalamanmu sebagai input data, bukan? <br>\n",
    "Baik, mari kembali pada mengamati permasalahan dan data. Contohnya adalah sebagai berikut.\n",
    "\n",
    "**Observasi terhadap permasalahan** <br>\n",
    "* Kamu sedang ingin makan makanan yang asin.\n",
    "* Budget yang dimiliki sebesar Rp50.000.\n",
    "* Sore ini kamu lapar, jadi harus makan banyak. \n",
    "\n",
    "**Observasi terhadap data** <br> \n",
    "* Di dekat rumah ada warung makan mi ayam. Di sisi lain, warung makanan yang tersedia pada layanan ojol juga banyak yang masih belum tutup.\n",
    "* Warung makan dekat rumah memang murah dan hemat ongkos kirim, tetapi ternyata layanan ojol menyediakan diskon sehingga harga layanan ojol lebih murah.\n",
    "* Pilihan makanan di layanan ojol lebih banyak, tidak hanya mi ayam. Kamu bisa memilih makanan lain dengan volume yang banyak, tetapi tetap mendapat harga yang murah.\n",
    "\n",
    "**4. Decide**: berisi kesimpulan dan saran dari analisis yang kamu lakukan. <br>\n",
    "\n",
    "Pada bagian ini, kamu bisa memasukkan pengalaman kamu sebagai opini. Kesimpulan dan saran pada contoh ini misalnya, makanan yang paling baik dibeli sore hari ini adalah makanan Padang. Harganya sekitar setengah dari budget karena ada promosi dari layanan ojol. Menurutmu, ini pilihan yang baik karena waktu itu pernah membeli dan rasanya enak (pengalaman).\n"
   ]
  },
  {
   "cell_type": "markdown",
   "metadata": {},
   "source": [
    "## **Tunggu, tunggu, tunggu, masih ada yang lupa! Ternyata dalam analisis deskriptif, kita harus mengetahui tipe data yang kita miliki**"
   ]
  },
  {
   "cell_type": "markdown",
   "metadata": {},
   "source": [
    "Pada contoh sebelumnya, kamu telah membaca *workflow* analisis data secara umum. Kenyataannya, permasalahan bisa lebih kompleks daripada itu. Maka dari itu, kita harus mengetahui tipe-tipe data yang ada. Tipe data yang berbeda memiliki cara penanganan yang berbeda. Yuk, kita simak sebelum **hands-on**!!"
   ]
  },
  {
   "cell_type": "markdown",
   "metadata": {},
   "source": [
    "## Data Kuantitatif dan Kualitatif\n",
    "Sebagian dari kalian mungkin sudah mengetahui perbedaan kedua tipe data tersebut.\n",
    "* Data **kuantitatif** merujuk pada data numerik. Misalnya, kecepatan, percepatan, atau jumlah buku.\n",
    "\n",
    "* Data **kualitatif** merujuk pada informasi tentang kualitas (tentunya), yaitu informasi yang tidak dapat dihitung. Misalnya, warna mata seseorang atau program studi seseorang.\n",
    "\n",
    "### **Data Kuantitatif**\n",
    "Data kuantitatif dapat dibagi menjadi dua: diskrit dan kontinu. Perbedaannya apa?\n",
    "* **Diskrit** merupakan data yang berbentuk bilangan bulat. Misalnya, jumlah anjing peliharaan dalam rumah. Kamu tidak bisa memiliki satu-setengah anjing. Contoh lain adalah jumlah halaman pada sebuah buku.\n",
    "\n",
    "* **Kontinu** merupakan data yang bisa dinyatakan dalam bentuk bilangan pecahan atau desimal. Biasanya, data ini berbentuk rasional. Jika tidak rasional, akan dilakukan pembulatan sehingga menjadi rasional. Contoh data kontinu adalah harga sebuah buku, durasi waktu, dan tinggi badan.\n",
    "\n",
    "### **Data Kualitatif**\n",
    "Meski data kualitatif menunjukkan kualitas yang tidak dapat dihitung, ingat bahwa komputer hanya dapat memproses angka. Maka dari itu, jika ingin diproses, harus diubah ke dalam representasi angka terlebih dahulu. Data kualitatif dibagi menjadi tiga:\n",
    "* **Nominal**: Data yang digunakan sebagai variabel untuk merepresentasikan, misalnya warna rambut. Contohnya adalah 1: hijau, 2: merah, 3: kuning, 4: biru. Urutannya bebas, asal konsisten. Angka 1 dan 4 di sini tidak dapat dibandingkan dalam artian 1 tidak lebih kecil dari 4 karena hijau dan biru tidak ada relasi besar-kecil.\n",
    "\n",
    "* **Ordinal**: Pada tipe ini, data memiliki relasi besar-kecil. Namun, definisi besar-kecilnya didefinisikan pada yang membuat data. Contohnya adalah skala kepuasan (rating) terhadap makanan. Data ini memiliki keterurutan. Dalam skala 1-100, angka 100 \"lebih baik\" daripada angka 99 (bergantung definisi skalanya, bisa terbalik). Skala juga bisa didefinisikan 1-5 atau 1-10 saja. Ordinal bisa diperlakukan sebagai diskrit atau kontinu.\n",
    "<br> Lalu, mengapa ini tak masuk dalam kategori kuantitatif? Dalam kuantitatif, misal jumlah halaman buku adalah 231 halaman. Namun, apakah buku dengan 231 halaman pasti \"lebih baik\" daripada buku dengan 230 halaman? Tentu tidak.\n",
    "\n",
    "* **Binary**: Seperti namanya, data ini hanya memiliki nilai biner \"0\" atau \"1\" seperti \"false\" atau \"true\" saja. Contohnya adalah absensi mahasiswa. Seorang mahasiswa dapat dikategorikan sebagai hadir (1) atau tidak hadir (0). Sebenarnya, representasi 0/1 bisa bebas, tetapi disarankan nilai \"0\" hanya untuk yang tidak memenuhi kondisi saja, dan *vice versa*.\n"
   ]
  },
  {
   "cell_type": "markdown",
   "metadata": {},
   "source": [
    "![Scales in table](assets/scales-table.png)\n",
    "<br> Sumber: Moreira et al. 2019. *A General Introduction to Data Analytics*. USA: John Wiley & Sons, Inc"
   ]
  },
  {
   "cell_type": "markdown",
   "metadata": {},
   "source": [
    "## Skala Perhitungan\n",
    "Skala perhitungan merupakan cara sebuah variabel didefinisikan. Dengan kata lain, kita menginterpretasikan maksud dari data melalui kategorinya dalam skala perhitungan. Beberapa klasifikasinya adalah sebagai berikut.\n",
    "\n",
    "* **Nominal**: merupakan angka yang merepresentasikan variabel sehingga tidak ada keterurutan.\n",
    "* **Ordinal**: mendeskripsikan data menurut keterurutan tertentu. Keterurutan tersebut didefinisikan oleh pembuat data.\n",
    "* **Interval**: skala ini memiliki kekhususan yaitu bahwa nilai nol \"0\" merupakan nilai yang benar-benar ada dan memiliki arti, misalnya temperatur nol derajat Celcius (*NO TRUE ZERO*). Selain itu, data dengan tipe ini memiliki selisih yang sama di antara mereka(*equally spaced*). Misalnya selisih antara 10 dan 20 derajat dengan 20 dan 30 derajat adalah sama.\n",
    "* **Ratio**: perbedaan paling mencolok adalah dengan interval. Tipe skala rasio memiliki nilai absolut nol. Misalnya, jika berat badanmu 0kg, artinya kamu tidak ada."
   ]
  },
  {
   "cell_type": "markdown",
   "metadata": {},
   "source": [
    "References: \n",
    "1. Milton, Michael. 2009. *Head First Data Analysis*. USA: O'Reilly\n",
    "1. Moreira et al. 2019. *A General Introduction to Data Analytics*. USA: John Wiley & Sons, Inc\n",
    "1. https://studyonline.unsw.edu.au/blog/types-of-data\n",
    "1. https://www.kdnuggets.com/2017/07/4-types-data-analytics.html"
   ]
  },
  {
   "cell_type": "markdown",
   "metadata": {},
   "source": [
    "# Hands-On Data Analysis with Python"
   ]
  },
  {
   "cell_type": "markdown",
   "metadata": {},
   "source": [
    "Prerequisite: \n",
    "* Kamu sudah baca pengantar analisis data.\n",
    "* Kamu harus sudah familiar dengan Python, mengerti dasar-dasar Python seperti tipe data, variabel, struktur data sederhana seperti array dan matriks, control flow (if-else, loops), dan mengetahui cara kerja library dalam Python."
   ]
  },
  {
   "cell_type": "markdown",
   "metadata": {},
   "source": [
    "Sebelum mulai, silakan unduh dataset dari [Kaggle](https://www.kaggle.com/komalkhetlani/nutritional-content-of-cereals)."
   ]
  },
  {
   "cell_type": "code",
   "execution_count": 3,
   "metadata": {},
   "outputs": [
    {
     "data": {
      "text/html": [
       "<div>\n",
       "<style scoped>\n",
       "    .dataframe tbody tr th:only-of-type {\n",
       "        vertical-align: middle;\n",
       "    }\n",
       "\n",
       "    .dataframe tbody tr th {\n",
       "        vertical-align: top;\n",
       "    }\n",
       "\n",
       "    .dataframe thead th {\n",
       "        text-align: right;\n",
       "    }\n",
       "</style>\n",
       "<table border=\"1\" class=\"dataframe\">\n",
       "  <thead>\n",
       "    <tr style=\"text-align: right;\">\n",
       "      <th></th>\n",
       "      <th>name</th>\n",
       "      <th>mfr</th>\n",
       "      <th>type</th>\n",
       "      <th>calories</th>\n",
       "      <th>protein</th>\n",
       "      <th>fat</th>\n",
       "      <th>sodium</th>\n",
       "      <th>fiber</th>\n",
       "      <th>carbo</th>\n",
       "      <th>sugars</th>\n",
       "      <th>potass</th>\n",
       "      <th>vitamins</th>\n",
       "      <th>shelf</th>\n",
       "      <th>weight</th>\n",
       "      <th>cups</th>\n",
       "      <th>rating</th>\n",
       "    </tr>\n",
       "  </thead>\n",
       "  <tbody>\n",
       "    <tr>\n",
       "      <th>0</th>\n",
       "      <td>String</td>\n",
       "      <td>Categorical</td>\n",
       "      <td>Categorical</td>\n",
       "      <td>Int</td>\n",
       "      <td>Int</td>\n",
       "      <td>Int</td>\n",
       "      <td>Int</td>\n",
       "      <td>Float</td>\n",
       "      <td>Float</td>\n",
       "      <td>Int</td>\n",
       "      <td>Int</td>\n",
       "      <td>Int</td>\n",
       "      <td>Int</td>\n",
       "      <td>Float</td>\n",
       "      <td>Float</td>\n",
       "      <td>Float</td>\n",
       "    </tr>\n",
       "    <tr>\n",
       "      <th>1</th>\n",
       "      <td>100% Bran</td>\n",
       "      <td>N</td>\n",
       "      <td>C</td>\n",
       "      <td>70</td>\n",
       "      <td>4</td>\n",
       "      <td>1</td>\n",
       "      <td>130</td>\n",
       "      <td>10</td>\n",
       "      <td>5</td>\n",
       "      <td>6</td>\n",
       "      <td>280</td>\n",
       "      <td>25</td>\n",
       "      <td>3</td>\n",
       "      <td>1</td>\n",
       "      <td>0.33</td>\n",
       "      <td>68.402973</td>\n",
       "    </tr>\n",
       "    <tr>\n",
       "      <th>2</th>\n",
       "      <td>100% Natural Bran</td>\n",
       "      <td>Q</td>\n",
       "      <td>C</td>\n",
       "      <td>120</td>\n",
       "      <td>3</td>\n",
       "      <td>5</td>\n",
       "      <td>15</td>\n",
       "      <td>2</td>\n",
       "      <td>8</td>\n",
       "      <td>8</td>\n",
       "      <td>135</td>\n",
       "      <td>0</td>\n",
       "      <td>3</td>\n",
       "      <td>1</td>\n",
       "      <td>1</td>\n",
       "      <td>33.983679</td>\n",
       "    </tr>\n",
       "    <tr>\n",
       "      <th>3</th>\n",
       "      <td>All-Bran</td>\n",
       "      <td>K</td>\n",
       "      <td>C</td>\n",
       "      <td>70</td>\n",
       "      <td>4</td>\n",
       "      <td>1</td>\n",
       "      <td>260</td>\n",
       "      <td>9</td>\n",
       "      <td>7</td>\n",
       "      <td>5</td>\n",
       "      <td>320</td>\n",
       "      <td>25</td>\n",
       "      <td>3</td>\n",
       "      <td>1</td>\n",
       "      <td>0.33</td>\n",
       "      <td>59.425505</td>\n",
       "    </tr>\n",
       "    <tr>\n",
       "      <th>4</th>\n",
       "      <td>All-Bran with Extra Fiber</td>\n",
       "      <td>K</td>\n",
       "      <td>C</td>\n",
       "      <td>50</td>\n",
       "      <td>4</td>\n",
       "      <td>0</td>\n",
       "      <td>140</td>\n",
       "      <td>14</td>\n",
       "      <td>8</td>\n",
       "      <td>0</td>\n",
       "      <td>330</td>\n",
       "      <td>25</td>\n",
       "      <td>3</td>\n",
       "      <td>1</td>\n",
       "      <td>0.5</td>\n",
       "      <td>93.704912</td>\n",
       "    </tr>\n",
       "  </tbody>\n",
       "</table>\n",
       "</div>"
      ],
      "text/plain": [
       "                        name          mfr         type calories protein  fat  \\\n",
       "0                     String  Categorical  Categorical      Int     Int  Int   \n",
       "1                  100% Bran            N            C       70       4    1   \n",
       "2          100% Natural Bran            Q            C      120       3    5   \n",
       "3                   All-Bran            K            C       70       4    1   \n",
       "4  All-Bran with Extra Fiber            K            C       50       4    0   \n",
       "\n",
       "  sodium  fiber  carbo sugars potass vitamins shelf weight   cups     rating  \n",
       "0    Int  Float  Float    Int    Int      Int   Int  Float  Float      Float  \n",
       "1    130     10      5      6    280       25     3      1   0.33  68.402973  \n",
       "2     15      2      8      8    135        0     3      1      1  33.983679  \n",
       "3    260      9      7      5    320       25     3      1   0.33  59.425505  \n",
       "4    140     14      8      0    330       25     3      1    0.5  93.704912  "
      ]
     },
     "execution_count": 3,
     "metadata": {},
     "output_type": "execute_result"
    }
   ],
   "source": [
    "import pandas as pd\n",
    "\n",
    "df = pd.read_csv(\"datasets/cereal.csv\")\n",
    "df.head()"
   ]
  },
  {
   "cell_type": "code",
   "execution_count": null,
   "metadata": {},
   "outputs": [],
   "source": []
  }
 ],
 "metadata": {
  "interpreter": {
   "hash": "63fd5069d213b44bf678585dea6b12cceca9941eaf7f819626cde1f2670de90d"
  },
  "kernelspec": {
   "display_name": "Python 3.9.5 64-bit",
   "name": "python3"
  },
  "language_info": {
   "codemirror_mode": {
    "name": "ipython",
    "version": 3
   },
   "file_extension": ".py",
   "mimetype": "text/x-python",
   "name": "python",
   "nbconvert_exporter": "python",
   "pygments_lexer": "ipython3",
   "version": "3.9.5"
  },
  "orig_nbformat": 4
 },
 "nbformat": 4,
 "nbformat_minor": 2
}
